{
 "cells": [
  {
   "cell_type": "code",
   "execution_count": 129,
   "metadata": {},
   "outputs": [],
   "source": [
    "from tensorflow.keras.layers import Dense\n",
    "from tensorflow.keras.models import Sequential\n",
    "import numpy as np\n",
    "import matplotlib.pyplot as plt"
   ]
  },
  {
   "cell_type": "code",
   "execution_count": 181,
   "metadata": {},
   "outputs": [],
   "source": [
    "model = Sequential()\n",
    "model.add(Dense(3,activation='relu',input_shape=(1,1)))\n",
    "model.add(Dense(1,activation='linear'))"
   ]
  },
  {
   "cell_type": "code",
   "execution_count": 218,
   "metadata": {},
   "outputs": [
    {
     "data": {
      "image/png": "[encoded data removed]",
      "text/plain": [
       "<Figure size 432x288 with 1 Axes>"
      ]
     },
     "metadata": {
      "needs_background": "light"
     },
     "output_type": "display_data"
    }
   ],
   "source": [
    "X = np.linspace(-10,10,10000)\n",
    "y_data = X**2\n",
    "X_data = np.reshape(X,(-1,1,1))\n",
    "plt.plot(y_data)\n",
    "plt.show()"
   ]
  },
  {
   "cell_type": "code",
   "execution_count": 219,
   "metadata": {},
   "outputs": [],
   "source": [
    "model.compile(optimizer='adam',loss='mse',metrics=['accuracy'])"
   ]
  },
  {
   "cell_type": "code",
   "execution_count": 220,
   "metadata": {},
   "outputs": [
    {
     "name": "stdout",
     "output_type": "stream",
     "text": [
      "Train on 10000 samples\n",
      "Epoch 1/1000\n",
      "10000/10000 [==============================] - 1s 64us/sample - loss: 144.2186 - accuracy: 0.0000e+00\n",
      "Epoch 2/1000\n",
      "10000/10000 [==============================] - 0s 34us/sample - loss: 136.3882 - accuracy: 0.0000e+00\n",
      "Epoch 3/1000\n",
      "10000/10000 [==============================] - 0s 34us/sample - loss: 129.0003 - accuracy: 0.0000e+00\n",
      "Epoch 4/1000\n",
      "10000/10000 [==============================] - 0s 33us/sample - loss: 121.9523 - accuracy: 0.0000e+00\n",
      "Epoch 5/1000\n",
      "10000/10000 [==============================] - 0s 33us/sample - loss: 115.3464 - accuracy: 0.0000e+00\n",
      "Epoch 6/1000\n",
      "10000/10000 [==============================] - 0s 34us/sample - loss: 109.0309 - accuracy: 0.0000e+00\n",
      "Epoch 7/1000\n",
      "10000/10000 [==============================] - 0s 33us/sample - loss: 103.0345 - accuracy: 0.0000e+00\n",
      "Epoch 8/1000\n",
      "10000/10000 [==============================] - 0s 34us/sample - loss: 97.3490 - accuracy: 0.0000e+00\n",
      "Epoch 9/1000\n",
      "10000/10000 [==============================] - 0s 34us/sample - loss: 91.9971 - accuracy: 0.0000e+00\n",
      "Epoch 10/1000\n",
      "10000/10000 [==============================] - 0s 34us/sample - loss: 86.8489 - accuracy: 0.0000e+00\n",
      "Epoch 11/1000\n",
      "10000/10000 [==============================] - 0s 33us/sample - loss: 82.0295 - accuracy: 0.0000e+00\n",
      "Epoch 12/1000\n",
      "10000/10000 [==============================] - 0s 33us/sample - loss: 77.4215 - accuracy: 0.0000e+00\n",
      "Epoch 13/1000\n",
      "10000/10000 [==============================] - 0s 45us/sample - loss: 73.1036 - accuracy: 0.0000e+00\n",
      "Epoch 14/1000\n",
      "10000/10000 [==============================] - 0s 36us/sample - loss: 68.9829 - accuracy: 0.0000e+00\n",
      "Epoch 15/1000\n",
      "10000/10000 [==============================] - 0s 35us/sample - loss: 65.1706 - accuracy: 0.0000e+00\n",
      "Epoch 16/1000\n",
      "10000/10000 [==============================] - 0s 37us/sample - loss: 61.5386 - accuracy: 0.0000e+00\n",
      "Epoch 17/1000\n",
      "10000/10000 [==============================] - 0s 34us/sample - loss: 58.2779 - accuracy: 0.0000e+00\n",
      "Epoch 18/1000\n",
      "10000/10000 [==============================] - 0s 35us/sample - loss: 55.1073 - accuracy: 0.0000e+00\n",
      "Epoch 19/1000\n",
      "10000/10000 [==============================] - 0s 35us/sample - loss: 52.2294 - accuracy: 0.0000e+00\n",
      "Epoch 20/1000\n",
      "10000/10000 [==============================] - 1s 51us/sample - loss: 49.5552 - accuracy: 0.0000e+00\n",
      "Epoch 21/1000\n",
      "10000/10000 [==============================] - 0s 48us/sample - loss: 47.0757 - accuracy: 0.0000e+00\n",
      "Epoch 22/1000\n",
      "10000/10000 [==============================] - 0s 39us/sample - loss: 44.8104 - accuracy: 0.0000e+00\n",
      "Epoch 23/1000\n",
      "10000/10000 [==============================] - 0s 41us/sample - loss: 42.7855 - accuracy: 0.0000e+00\n",
      "Epoch 24/1000\n",
      "10000/10000 [==============================] - 0s 38us/sample - loss: 40.9300 - accuracy: 0.0000e+00\n",
      "Epoch 25/1000\n",
      "10000/10000 [==============================] - 0s 38us/sample - loss: 39.2803 - accuracy: 0.0000e+00\n",
      "Epoch 26/1000\n",
      "10000/10000 [==============================] - 0s 36us/sample - loss: 37.7539 - accuracy: 0.0000e+00\n",
      "Epoch 27/1000\n",
      "10000/10000 [==============================] - 0s 34us/sample - loss: 36.4087 - accuracy: 0.0000e+00\n",
      "Epoch 28/1000\n",
      "10000/10000 [==============================] - 0s 33us/sample - loss: 35.1949 - accuracy: 0.0000e+00\n",
      "Epoch 29/1000\n",
      "10000/10000 [==============================] - 0s 35us/sample - loss: 34.0331 - accuracy: 0.0000e+00\n",
      "Epoch 30/1000\n",
      "10000/10000 [==============================] - 0s 35us/sample - loss: 32.9920 - accuracy: 0.0000e+00\n",
      "Epoch 31/1000\n",
      "10000/10000 [==============================] - 0s 38us/sample - loss: 32.0444 - accuracy: 0.0000e+00\n",
      "Epoch 32/1000\n",
      "10000/10000 [==============================] - 0s 33us/sample - loss: 31.1162 - accuracy: 0.0000e+00\n",
      "Epoch 33/1000\n",
      "10000/10000 [==============================] - 0s 33us/sample - loss: 30.2504 - accuracy: 0.0000e+00\n",
      "Epoch 34/1000\n",
      "10000/10000 [==============================] - 0s 32us/sample - loss: 29.4259 - accuracy: 0.0000e+00\n",
      "Epoch 35/1000\n",
      "10000/10000 [==============================] - 0s 37us/sample - loss: 28.6160 - accuracy: 0.0000e+00\n",
      "Epoch 36/1000\n",
      "10000/10000 [==============================] - 0s 37us/sample - loss: 27.8538 - accuracy: 0.0000e+00\n",
      "Epoch 37/1000\n",
      "10000/10000 [==============================] - 0s 40us/sample - loss: 27.0849 - accuracy: 0.0000e+00\n",
      "Epoch 38/1000\n",
      "10000/10000 [==============================] - 0s 39us/sample - loss: 26.3484 - accuracy: 0.0000e+00\n",
      "Epoch 39/1000\n",
      "10000/10000 [==============================] - 0s 36us/sample - loss: 25.6250 - accuracy: 0.0000e+00\n",
      "Epoch 40/1000\n",
      "10000/10000 [==============================] - 0s 35us/sample - loss: 24.9244 - accuracy: 0.0000e+00\n",
      "Epoch 41/1000\n",
      "10000/10000 [==============================] - 0s 34us/sample - loss: 24.2241 - accuracy: 0.0000e+00\n",
      "Epoch 42/1000\n",
      "10000/10000 [==============================] - 0s 34us/sample - loss: 23.5568 - accuracy: 0.0000e+00\n",
      "Epoch 43/1000\n",
      "10000/10000 [==============================] - 0s 36us/sample - loss: 22.8871 - accuracy: 0.0000e+00\n",
      "Epoch 44/1000\n",
      "10000/10000 [==============================] - 0s 34us/sample - loss: 22.2345 - accuracy: 0.0000e+00\n",
      "Epoch 45/1000\n",
      "10000/10000 [==============================] - 0s 35us/sample - loss: 21.6340 - accuracy: 0.0000e+00\n",
      "Epoch 46/1000\n",
      "10000/10000 [==============================] - 0s 34us/sample - loss: 21.0249 - accuracy: 0.0000e+00\n",
      "Epoch 47/1000\n",
      "10000/10000 [==============================] - 0s 38us/sample - loss: 20.4299 - accuracy: 0.0000e+00\n",
      "Epoch 48/1000\n",
      "10000/10000 [==============================] - 0s 36us/sample - loss: 19.8677 - accuracy: 0.0000e+00\n",
      "Epoch 49/1000\n",
      "10000/10000 [==============================] - 0s 35us/sample - loss: 19.3118 - accuracy: 0.0000e+00\n",
      "Epoch 50/1000\n",
      "10000/10000 [==============================] - 0s 34us/sample - loss: 18.7846 - accuracy: 0.0000e+00\n",
      "Epoch 51/1000\n",
      "10000/10000 [==============================] - 0s 35us/sample - loss: 18.2638 - accuracy: 0.0000e+00\n",
      "Epoch 52/1000\n",
      "10000/10000 [==============================] - 0s 35us/sample - loss: 17.7770 - accuracy: 0.0000e+00\n",
      "Epoch 53/1000\n",
      "10000/10000 [==============================] - 0s 34us/sample - loss: 17.3007 - accuracy: 0.0000e+00\n",
      "Epoch 54/1000\n",
      "10000/10000 [==============================] - 0s 36us/sample - loss: 16.8489 - accuracy: 0.0000e+00\n",
      "Epoch 55/1000\n",
      "10000/10000 [==============================] - 0s 37us/sample - loss: 16.4245 - accuracy: 0.0000e+00\n",
      "Epoch 56/1000\n",
      "10000/10000 [==============================] - 0s 35us/sample - loss: 16.0063 - accuracy: 0.0000e+00\n",
      "Epoch 57/1000\n",
      "10000/10000 [==============================] - 0s 34us/sample - loss: 15.6137 - accuracy: 0.0000e+00\n",
      "Epoch 58/1000\n",
      "10000/10000 [==============================] - 0s 34us/sample - loss: 15.2435 - accuracy: 0.0000e+00\n",
      "Epoch 59/1000\n",
      "10000/10000 [==============================] - 0s 34us/sample - loss: 14.8821 - accuracy: 0.0000e+00\n",
      "Epoch 60/1000\n",
      "10000/10000 [==============================] - 0s 34us/sample - loss: 14.5662 - accuracy: 0.0000e+00\n",
      "Epoch 61/1000\n",
      "10000/10000 [==============================] - 0s 34us/sample - loss: 14.2631 - accuracy: 0.0000e+00\n",
      "Epoch 62/1000\n",
      "10000/10000 [==============================] - 0s 34us/sample - loss: 13.9585 - accuracy: 0.0000e+00\n",
      "Epoch 63/1000\n",
      "10000/10000 [==============================] - 0s 35us/sample - loss: 13.7052 - accuracy: 0.0000e+00\n",
      "Epoch 64/1000\n",
      "10000/10000 [==============================] - 0s 34us/sample - loss: 13.4510 - accuracy: 0.0000e+00\n",
      "Epoch 65/1000\n",
      "10000/10000 [==============================] - 0s 34us/sample - loss: 13.2182 - accuracy: 0.0000e+00\n",
      "Epoch 66/1000\n",
      "10000/10000 [==============================] - 0s 34us/sample - loss: 12.9955 - accuracy: 0.0000e+00\n",
      "Epoch 67/1000\n",
      "10000/10000 [==============================] - 0s 34us/sample - loss: 12.8092 - accuracy: 0.0000e+00\n",
      "Epoch 68/1000\n",
      "10000/10000 [==============================] - 0s 35us/sample - loss: 12.6118 - accuracy: 0.0000e+00\n",
      "Epoch 69/1000\n",
      "10000/10000 [==============================] - 0s 34us/sample - loss: 12.4571 - accuracy: 0.0000e+00\n",
      "Epoch 70/1000\n",
      "10000/10000 [==============================] - 0s 38us/sample - loss: 12.2979 - accuracy: 0.0000e+00\n",
      "Epoch 71/1000\n",
      "10000/10000 [==============================] - 0s 35us/sample - loss: 12.1648 - accuracy: 0.0000e+00\n",
      "Epoch 72/1000\n"
     ]
    },
    {
     "name": "stdout",
     "output_type": "stream",
     "text": [
      "10000/10000 [==============================] - 0s 36us/sample - loss: 12.0329 - accuracy: 0.0000e+00\n",
      "Epoch 73/1000\n",
      "10000/10000 [==============================] - 0s 33us/sample - loss: 11.9291 - accuracy: 0.0000e+00\n",
      "Epoch 74/1000\n",
      "10000/10000 [==============================] - 0s 35us/sample - loss: 11.8132 - accuracy: 0.0000e+00\n",
      "Epoch 75/1000\n",
      "10000/10000 [==============================] - 0s 34us/sample - loss: 11.7063 - accuracy: 0.0000e+00\n",
      "Epoch 76/1000\n",
      "10000/10000 [==============================] - 0s 34us/sample - loss: 11.6297 - accuracy: 0.0000e+00\n",
      "Epoch 77/1000\n",
      "10000/10000 [==============================] - 0s 34us/sample - loss: 11.5529 - accuracy: 0.0000e+00\n",
      "Epoch 78/1000\n",
      "10000/10000 [==============================] - 0s 37us/sample - loss: 11.4845 - accuracy: 0.0000e+00\n",
      "Epoch 79/1000\n",
      "10000/10000 [==============================] - 0s 34us/sample - loss: 11.4213 - accuracy: 0.0000e+00\n",
      "Epoch 80/1000\n",
      "10000/10000 [==============================] - 0s 34us/sample - loss: 11.3671 - accuracy: 0.0000e+00\n",
      "Epoch 81/1000\n",
      "10000/10000 [==============================] - 0s 34us/sample - loss: 11.3136 - accuracy: 0.0000e+00\n",
      "Epoch 82/1000\n",
      "10000/10000 [==============================] - 0s 34us/sample - loss: 11.2815 - accuracy: 0.0000e+00\n",
      "Epoch 83/1000\n",
      "10000/10000 [==============================] - 0s 34us/sample - loss: 11.2412 - accuracy: 0.0000e+00\n",
      "Epoch 84/1000\n",
      "10000/10000 [==============================] - 0s 35us/sample - loss: 11.2019 - accuracy: 0.0000e+00\n",
      "Epoch 85/1000\n",
      "10000/10000 [==============================] - 0s 34us/sample - loss: 11.1935 - accuracy: 0.0000e+00\n",
      "Epoch 86/1000\n",
      "10000/10000 [==============================] - 0s 37us/sample - loss: 11.1537 - accuracy: 0.0000e+00\n",
      "Epoch 87/1000\n",
      "10000/10000 [==============================] - 0s 35us/sample - loss: 11.1403 - accuracy: 0.0000e+00\n",
      "Epoch 88/1000\n",
      "10000/10000 [==============================] - 0s 34us/sample - loss: 11.1136 - accuracy: 0.0000e+00\n",
      "Epoch 89/1000\n",
      "10000/10000 [==============================] - 0s 35us/sample - loss: 11.0940 - accuracy: 0.0000e+00\n",
      "Epoch 90/1000\n",
      "10000/10000 [==============================] - 0s 34us/sample - loss: 11.0898 - accuracy: 0.0000e+00\n",
      "Epoch 91/1000\n",
      "10000/10000 [==============================] - 0s 34us/sample - loss: 11.0788 - accuracy: 0.0000e+00\n",
      "Epoch 92/1000\n",
      "10000/10000 [==============================] - 0s 34us/sample - loss: 11.0601 - accuracy: 0.0000e+00\n",
      "Epoch 93/1000\n",
      "10000/10000 [==============================] - 0s 39us/sample - loss: 11.0553 - accuracy: 0.0000e+00\n",
      "Epoch 94/1000\n",
      "10000/10000 [==============================] - 0s 35us/sample - loss: 11.0580 - accuracy: 0.0000e+00\n",
      "Epoch 95/1000\n",
      "10000/10000 [==============================] - 0s 35us/sample - loss: 11.0414 - accuracy: 0.0000e+00\n",
      "Epoch 96/1000\n",
      "10000/10000 [==============================] - 0s 35us/sample - loss: 11.0369 - accuracy: 0.0000e+00\n",
      "Epoch 97/1000\n",
      "10000/10000 [==============================] - 0s 34us/sample - loss: 11.0221 - accuracy: 0.0000e+00\n",
      "Epoch 98/1000\n",
      "10000/10000 [==============================] - 0s 35us/sample - loss: 11.0252 - accuracy: 0.0000e+00\n",
      "Epoch 99/1000\n",
      "10000/10000 [==============================] - 0s 34us/sample - loss: 11.0152 - accuracy: 0.0000e+00\n",
      "Epoch 100/1000\n",
      "10000/10000 [==============================] - 0s 34us/sample - loss: 11.0135 - accuracy: 0.0000e+00\n",
      "Epoch 101/1000\n",
      "10000/10000 [==============================] - 0s 34us/sample - loss: 11.0219 - accuracy: 0.0000e+00\n",
      "Epoch 102/1000\n",
      "10000/10000 [==============================] - 0s 35us/sample - loss: 11.0063 - accuracy: 0.0000e+00\n",
      "Epoch 103/1000\n",
      "10000/10000 [==============================] - 0s 34us/sample - loss: 11.0153 - accuracy: 0.0000e+00\n",
      "Epoch 104/1000\n",
      "10000/10000 [==============================] - 0s 35us/sample - loss: 11.0121 - accuracy: 0.0000e+00\n",
      "Epoch 105/1000\n",
      "10000/10000 [==============================] - 0s 34us/sample - loss: 11.0123 - accuracy: 0.0000e+00\n",
      "Epoch 106/1000\n",
      "10000/10000 [==============================] - 0s 34us/sample - loss: 11.0067 - accuracy: 0.0000e+00\n",
      "Epoch 107/1000\n",
      "10000/10000 [==============================] - 0s 35us/sample - loss: 11.0013 - accuracy: 0.0000e+00\n",
      "Epoch 108/1000\n",
      "10000/10000 [==============================] - 0s 36us/sample - loss: 11.0156 - accuracy: 0.0000e+00\n",
      "Epoch 109/1000\n",
      "10000/10000 [==============================] - 0s 36us/sample - loss: 10.9989 - accuracy: 0.0000e+00\n",
      "Epoch 110/1000\n",
      "10000/10000 [==============================] - 0s 36us/sample - loss: 11.0005 - accuracy: 0.0000e+00\n",
      "Epoch 111/1000\n",
      "10000/10000 [==============================] - 0s 34us/sample - loss: 10.9998 - accuracy: 0.0000e+00\n",
      "Epoch 112/1000\n",
      "10000/10000 [==============================] - 0s 34us/sample - loss: 11.0064 - accuracy: 0.0000e+00\n",
      "Epoch 113/1000\n",
      "10000/10000 [==============================] - 0s 35us/sample - loss: 11.0018 - accuracy: 0.0000e+00\n",
      "Epoch 114/1000\n",
      "10000/10000 [==============================] - 0s 34us/sample - loss: 10.9989 - accuracy: 0.0000e+00\n",
      "Epoch 115/1000\n",
      "10000/10000 [==============================] - 0s 34us/sample - loss: 11.0111 - accuracy: 0.0000e+00\n",
      "Epoch 116/1000\n",
      "10000/10000 [==============================] - 0s 34us/sample - loss: 11.0009 - accuracy: 0.0000e+00\n",
      "Epoch 117/1000\n",
      "10000/10000 [==============================] - 0s 34us/sample - loss: 10.9988 - accuracy: 0.0000e+00\n",
      "Epoch 118/1000\n",
      "10000/10000 [==============================] - 0s 35us/sample - loss: 11.0006 - accuracy: 0.0000e+00\n",
      "Epoch 119/1000\n",
      "10000/10000 [==============================] - 0s 35us/sample - loss: 11.0095 - accuracy: 0.0000e+00\n",
      "Epoch 120/1000\n",
      "10000/10000 [==============================] - 0s 34us/sample - loss: 11.0025 - accuracy: 0.0000e+00\n",
      "Epoch 121/1000\n",
      "10000/10000 [==============================] - 0s 34us/sample - loss: 10.9926 - accuracy: 0.0000e+00\n",
      "Epoch 122/1000\n",
      "10000/10000 [==============================] - 0s 34us/sample - loss: 11.0030 - accuracy: 0.0000e+00\n",
      "Epoch 123/1000\n",
      "10000/10000 [==============================] - 0s 34us/sample - loss: 10.9981 - accuracy: 0.0000e+00\n",
      "Epoch 124/1000\n",
      "10000/10000 [==============================] - 0s 35us/sample - loss: 11.0016 - accuracy: 0.0000e+00\n",
      "Epoch 125/1000\n",
      "10000/10000 [==============================] - 0s 34us/sample - loss: 10.9981 - accuracy: 0.0000e+00\n",
      "Epoch 126/1000\n",
      "10000/10000 [==============================] - 0s 34us/sample - loss: 10.9959 - accuracy: 0.0000e+00\n",
      "Epoch 127/1000\n",
      "10000/10000 [==============================] - 0s 36us/sample - loss: 11.0040 - accuracy: 0.0000e+00\n",
      "Epoch 128/1000\n",
      "10000/10000 [==============================] - 0s 33us/sample - loss: 11.0044 - accuracy: 0.0000e+00\n",
      "Epoch 129/1000\n",
      "10000/10000 [==============================] - 0s 35us/sample - loss: 10.9992 - accuracy: 0.0000e+00\n",
      "Epoch 130/1000\n",
      "10000/10000 [==============================] - 0s 36us/sample - loss: 11.0010 - accuracy: 0.0000e+00\n",
      "Epoch 131/1000\n",
      "10000/10000 [==============================] - 0s 35us/sample - loss: 11.0004 - accuracy: 0.0000e+00\n",
      "Epoch 132/1000\n",
      "10000/10000 [==============================] - 0s 36us/sample - loss: 10.9905 - accuracy: 0.0000e+00\n",
      "Epoch 133/1000\n",
      "10000/10000 [==============================] - 0s 35us/sample - loss: 10.9970 - accuracy: 0.0000e+00\n",
      "Epoch 134/1000\n",
      "10000/10000 [==============================] - 0s 35us/sample - loss: 10.9876 - accuracy: 0.0000e+00\n",
      "Epoch 135/1000\n",
      "10000/10000 [==============================] - 0s 34us/sample - loss: 10.9962 - accuracy: 0.0000e+00\n",
      "Epoch 136/1000\n",
      "10000/10000 [==============================] - 0s 33us/sample - loss: 11.0004 - accuracy: 0.0000e+00\n",
      "Epoch 137/1000\n",
      "10000/10000 [==============================] - 0s 34us/sample - loss: 10.9999 - accuracy: 0.0000e+00\n",
      "Epoch 138/1000\n",
      "10000/10000 [==============================] - 0s 35us/sample - loss: 10.9978 - accuracy: 0.0000e+00\n",
      "Epoch 139/1000\n",
      "10000/10000 [==============================] - 0s 34us/sample - loss: 10.9939 - accuracy: 0.0000e+00\n",
      "Epoch 140/1000\n",
      "10000/10000 [==============================] - 0s 34us/sample - loss: 11.0028 - accuracy: 0.0000e+00\n",
      "Epoch 141/1000\n",
      "10000/10000 [==============================] - 0s 35us/sample - loss: 10.9944 - accuracy: 0.0000e+00\n",
      "Epoch 142/1000\n",
      "10000/10000 [==============================] - 0s 34us/sample - loss: 11.0019 - accuracy: 0.0000e+00\n"
     ]
    },
    {
     "name": "stdout",
     "output_type": "stream",
     "text": [
      "Epoch 143/1000\n",
      "10000/10000 [==============================] - 0s 34us/sample - loss: 10.9973 - accuracy: 0.0000e+00\n",
      "Epoch 144/1000\n",
      "10000/10000 [==============================] - 0s 35us/sample - loss: 10.9991 - accuracy: 0.0000e+00\n",
      "Epoch 145/1000\n",
      "10000/10000 [==============================] - 0s 34us/sample - loss: 10.9983 - accuracy: 0.0000e+00\n",
      "Epoch 146/1000\n",
      "10000/10000 [==============================] - 0s 35us/sample - loss: 10.9976 - accuracy: 0.0000e+00\n",
      "Epoch 147/1000\n",
      "10000/10000 [==============================] - 0s 38us/sample - loss: 11.0011 - accuracy: 0.0000e+00\n",
      "Epoch 148/1000\n",
      "10000/10000 [==============================] - 0s 35us/sample - loss: 10.9963 - accuracy: 0.0000e+00\n",
      "Epoch 149/1000\n",
      "10000/10000 [==============================] - 0s 36us/sample - loss: 10.9803 - accuracy: 0.0000e+00\n",
      "Epoch 150/1000\n",
      "10000/10000 [==============================] - 0s 35us/sample - loss: 11.0090 - accuracy: 0.0000e+00\n",
      "Epoch 151/1000\n",
      "10000/10000 [==============================] - 0s 36us/sample - loss: 10.9912 - accuracy: 0.0000e+00\n",
      "Epoch 152/1000\n",
      "10000/10000 [==============================] - 0s 35us/sample - loss: 10.9968 - accuracy: 0.0000e+00\n",
      "Epoch 153/1000\n",
      "10000/10000 [==============================] - 0s 34us/sample - loss: 10.9961 - accuracy: 0.0000e+00\n",
      "Epoch 154/1000\n",
      "10000/10000 [==============================] - 0s 35us/sample - loss: 11.0033 - accuracy: 0.0000e+00\n",
      "Epoch 155/1000\n",
      "10000/10000 [==============================] - 0s 34us/sample - loss: 10.9972 - accuracy: 0.0000e+00\n",
      "Epoch 156/1000\n",
      "10000/10000 [==============================] - 0s 35us/sample - loss: 10.9926 - accuracy: 0.0000e+00\n",
      "Epoch 157/1000\n",
      "10000/10000 [==============================] - 0s 34us/sample - loss: 10.9966 - accuracy: 0.0000e+00\n",
      "Epoch 158/1000\n",
      "10000/10000 [==============================] - 0s 34us/sample - loss: 11.0022 - accuracy: 0.0000e+00\n",
      "Epoch 159/1000\n",
      "10000/10000 [==============================] - 0s 34us/sample - loss: 11.0043 - accuracy: 0.0000e+00\n",
      "Epoch 160/1000\n",
      "10000/10000 [==============================] - 0s 34us/sample - loss: 10.9933 - accuracy: 0.0000e+00\n",
      "Epoch 161/1000\n",
      "10000/10000 [==============================] - 0s 35us/sample - loss: 10.9874 - accuracy: 0.0000e+00\n",
      "Epoch 162/1000\n",
      "10000/10000 [==============================] - 0s 35us/sample - loss: 11.0065 - accuracy: 0.0000e+00\n",
      "Epoch 163/1000\n",
      "10000/10000 [==============================] - 0s 34us/sample - loss: 11.0019 - accuracy: 0.0000e+00\n",
      "Epoch 164/1000\n",
      "10000/10000 [==============================] - 0s 36us/sample - loss: 10.9990 - accuracy: 0.0000e+00\n",
      "Epoch 165/1000\n",
      "10000/10000 [==============================] - 0s 35us/sample - loss: 11.0093 - accuracy: 0.0000e+00\n",
      "Epoch 166/1000\n",
      " 1408/10000 [===>..........................] - ETA: 0s - loss: 11.3785 - accuracy: 0.0000e+00"
     ]
    },
    {
     "ename": "KeyboardInterrupt",
     "evalue": "",
     "output_type": "error",
     "traceback": [
      "\u001b[1;31m---------------------------------------------------------------------------\u001b[0m",
      "\u001b[1;31mKeyboardInterrupt\u001b[0m                         Traceback (most recent call last)",
      "\u001b[1;32m<ipython-input-220-442377ad50a0>\u001b[0m in \u001b[0;36m<module>\u001b[1;34m\u001b[0m\n\u001b[1;32m----> 1\u001b[1;33m \u001b[0mmodel\u001b[0m\u001b[1;33m.\u001b[0m\u001b[0mfit\u001b[0m\u001b[1;33m(\u001b[0m\u001b[0mX_data\u001b[0m\u001b[1;33m,\u001b[0m\u001b[0my_data\u001b[0m\u001b[1;33m,\u001b[0m\u001b[0mepochs\u001b[0m\u001b[1;33m=\u001b[0m\u001b[1;36m1000\u001b[0m\u001b[1;33m)\u001b[0m\u001b[1;33m\u001b[0m\u001b[0m\n\u001b[0m",
      "\u001b[1;32mc:\\users\\sanjiv\\appdata\\local\\programs\\python\\python36\\lib\\site-packages\\tensorflow_core\\python\\keras\\engine\\training.py\u001b[0m in \u001b[0;36mfit\u001b[1;34m(self, x, y, batch_size, epochs, verbose, callbacks, validation_split, validation_data, shuffle, class_weight, sample_weight, initial_epoch, steps_per_epoch, validation_steps, validation_freq, max_queue_size, workers, use_multiprocessing, **kwargs)\u001b[0m\n\u001b[0;32m    817\u001b[0m         \u001b[0mmax_queue_size\u001b[0m\u001b[1;33m=\u001b[0m\u001b[0mmax_queue_size\u001b[0m\u001b[1;33m,\u001b[0m\u001b[1;33m\u001b[0m\u001b[0m\n\u001b[0;32m    818\u001b[0m         \u001b[0mworkers\u001b[0m\u001b[1;33m=\u001b[0m\u001b[0mworkers\u001b[0m\u001b[1;33m,\u001b[0m\u001b[1;33m\u001b[0m\u001b[0m\n\u001b[1;32m--> 819\u001b[1;33m         use_multiprocessing=use_multiprocessing)\n\u001b[0m\u001b[0;32m    820\u001b[0m \u001b[1;33m\u001b[0m\u001b[0m\n\u001b[0;32m    821\u001b[0m   def evaluate(self,\n",
      "\u001b[1;32mc:\\users\\sanjiv\\appdata\\local\\programs\\python\\python36\\lib\\site-packages\\tensorflow_core\\python\\keras\\engine\\training_v2.py\u001b[0m in \u001b[0;36mfit\u001b[1;34m(self, model, x, y, batch_size, epochs, verbose, callbacks, validation_split, validation_data, shuffle, class_weight, sample_weight, initial_epoch, steps_per_epoch, validation_steps, validation_freq, max_queue_size, workers, use_multiprocessing, **kwargs)\u001b[0m\n\u001b[0;32m    340\u001b[0m                 \u001b[0mmode\u001b[0m\u001b[1;33m=\u001b[0m\u001b[0mModeKeys\u001b[0m\u001b[1;33m.\u001b[0m\u001b[0mTRAIN\u001b[0m\u001b[1;33m,\u001b[0m\u001b[1;33m\u001b[0m\u001b[0m\n\u001b[0;32m    341\u001b[0m                 \u001b[0mtraining_context\u001b[0m\u001b[1;33m=\u001b[0m\u001b[0mtraining_context\u001b[0m\u001b[1;33m,\u001b[0m\u001b[1;33m\u001b[0m\u001b[0m\n\u001b[1;32m--> 342\u001b[1;33m                 total_epochs=epochs)\n\u001b[0m\u001b[0;32m    343\u001b[0m             \u001b[0mcbks\u001b[0m\u001b[1;33m.\u001b[0m\u001b[0mmake_logs\u001b[0m\u001b[1;33m(\u001b[0m\u001b[0mmodel\u001b[0m\u001b[1;33m,\u001b[0m \u001b[0mepoch_logs\u001b[0m\u001b[1;33m,\u001b[0m \u001b[0mtraining_result\u001b[0m\u001b[1;33m,\u001b[0m \u001b[0mModeKeys\u001b[0m\u001b[1;33m.\u001b[0m\u001b[0mTRAIN\u001b[0m\u001b[1;33m)\u001b[0m\u001b[1;33m\u001b[0m\u001b[0m\n\u001b[0;32m    344\u001b[0m \u001b[1;33m\u001b[0m\u001b[0m\n",
      "\u001b[1;32mc:\\users\\sanjiv\\appdata\\local\\programs\\python\\python36\\lib\\site-packages\\tensorflow_core\\python\\keras\\engine\\training_v2.py\u001b[0m in \u001b[0;36mrun_one_epoch\u001b[1;34m(model, iterator, execution_function, dataset_size, batch_size, strategy, steps_per_epoch, num_samples, mode, training_context, total_epochs)\u001b[0m\n\u001b[0;32m    126\u001b[0m         step=step, mode=mode, size=current_batch_size) as batch_logs:\n\u001b[0;32m    127\u001b[0m       \u001b[1;32mtry\u001b[0m\u001b[1;33m:\u001b[0m\u001b[1;33m\u001b[0m\u001b[0m\n\u001b[1;32m--> 128\u001b[1;33m         \u001b[0mbatch_outs\u001b[0m \u001b[1;33m=\u001b[0m \u001b[0mexecution_function\u001b[0m\u001b[1;33m(\u001b[0m\u001b[0miterator\u001b[0m\u001b[1;33m)\u001b[0m\u001b[1;33m\u001b[0m\u001b[0m\n\u001b[0m\u001b[0;32m    129\u001b[0m       \u001b[1;32mexcept\u001b[0m \u001b[1;33m(\u001b[0m\u001b[0mStopIteration\u001b[0m\u001b[1;33m,\u001b[0m \u001b[0merrors\u001b[0m\u001b[1;33m.\u001b[0m\u001b[0mOutOfRangeError\u001b[0m\u001b[1;33m)\u001b[0m\u001b[1;33m:\u001b[0m\u001b[1;33m\u001b[0m\u001b[0m\n\u001b[0;32m    130\u001b[0m         \u001b[1;31m# TODO(kaftan): File bug about tf function and errors.OutOfRangeError?\u001b[0m\u001b[1;33m\u001b[0m\u001b[1;33m\u001b[0m\u001b[0m\n",
      "\u001b[1;32mc:\\users\\sanjiv\\appdata\\local\\programs\\python\\python36\\lib\\site-packages\\tensorflow_core\\python\\keras\\engine\\training_v2_utils.py\u001b[0m in \u001b[0;36mexecution_function\u001b[1;34m(input_fn)\u001b[0m\n\u001b[0;32m     96\u001b[0m     \u001b[1;31m# `numpy` translates Tensors to values in Eager mode.\u001b[0m\u001b[1;33m\u001b[0m\u001b[1;33m\u001b[0m\u001b[0m\n\u001b[0;32m     97\u001b[0m     return nest.map_structure(_non_none_constant_value,\n\u001b[1;32m---> 98\u001b[1;33m                               distributed_function(input_fn))\n\u001b[0m\u001b[0;32m     99\u001b[0m \u001b[1;33m\u001b[0m\u001b[0m\n\u001b[0;32m    100\u001b[0m   \u001b[1;32mreturn\u001b[0m \u001b[0mexecution_function\u001b[0m\u001b[1;33m\u001b[0m\u001b[0m\n",
      "\u001b[1;32mc:\\users\\sanjiv\\appdata\\local\\programs\\python\\python36\\lib\\site-packages\\tensorflow_core\\python\\eager\\def_function.py\u001b[0m in \u001b[0;36m__call__\u001b[1;34m(self, *args, **kwds)\u001b[0m\n\u001b[0;32m    566\u001b[0m         \u001b[0mxla_context\u001b[0m\u001b[1;33m.\u001b[0m\u001b[0mExit\u001b[0m\u001b[1;33m(\u001b[0m\u001b[1;33m)\u001b[0m\u001b[1;33m\u001b[0m\u001b[0m\n\u001b[0;32m    567\u001b[0m     \u001b[1;32melse\u001b[0m\u001b[1;33m:\u001b[0m\u001b[1;33m\u001b[0m\u001b[0m\n\u001b[1;32m--> 568\u001b[1;33m       \u001b[0mresult\u001b[0m \u001b[1;33m=\u001b[0m \u001b[0mself\u001b[0m\u001b[1;33m.\u001b[0m\u001b[0m_call\u001b[0m\u001b[1;33m(\u001b[0m\u001b[1;33m*\u001b[0m\u001b[0margs\u001b[0m\u001b[1;33m,\u001b[0m \u001b[1;33m**\u001b[0m\u001b[0mkwds\u001b[0m\u001b[1;33m)\u001b[0m\u001b[1;33m\u001b[0m\u001b[0m\n\u001b[0m\u001b[0;32m    569\u001b[0m \u001b[1;33m\u001b[0m\u001b[0m\n\u001b[0;32m    570\u001b[0m     \u001b[1;32mif\u001b[0m \u001b[0mtracing_count\u001b[0m \u001b[1;33m==\u001b[0m \u001b[0mself\u001b[0m\u001b[1;33m.\u001b[0m\u001b[0m_get_tracing_count\u001b[0m\u001b[1;33m(\u001b[0m\u001b[1;33m)\u001b[0m\u001b[1;33m:\u001b[0m\u001b[1;33m\u001b[0m\u001b[0m\n",
      "\u001b[1;32mc:\\users\\sanjiv\\appdata\\local\\programs\\python\\python36\\lib\\site-packages\\tensorflow_core\\python\\eager\\def_function.py\u001b[0m in \u001b[0;36m_call\u001b[1;34m(self, *args, **kwds)\u001b[0m\n\u001b[0;32m    597\u001b[0m       \u001b[1;31m# In this case we have created variables on the first call, so we run the\u001b[0m\u001b[1;33m\u001b[0m\u001b[1;33m\u001b[0m\u001b[0m\n\u001b[0;32m    598\u001b[0m       \u001b[1;31m# defunned version which is guaranteed to never create variables.\u001b[0m\u001b[1;33m\u001b[0m\u001b[1;33m\u001b[0m\u001b[0m\n\u001b[1;32m--> 599\u001b[1;33m       \u001b[1;32mreturn\u001b[0m \u001b[0mself\u001b[0m\u001b[1;33m.\u001b[0m\u001b[0m_stateless_fn\u001b[0m\u001b[1;33m(\u001b[0m\u001b[1;33m*\u001b[0m\u001b[0margs\u001b[0m\u001b[1;33m,\u001b[0m \u001b[1;33m**\u001b[0m\u001b[0mkwds\u001b[0m\u001b[1;33m)\u001b[0m  \u001b[1;31m# pylint: disable=not-callable\u001b[0m\u001b[1;33m\u001b[0m\u001b[0m\n\u001b[0m\u001b[0;32m    600\u001b[0m     \u001b[1;32melif\u001b[0m \u001b[0mself\u001b[0m\u001b[1;33m.\u001b[0m\u001b[0m_stateful_fn\u001b[0m \u001b[1;32mis\u001b[0m \u001b[1;32mnot\u001b[0m \u001b[1;32mNone\u001b[0m\u001b[1;33m:\u001b[0m\u001b[1;33m\u001b[0m\u001b[0m\n\u001b[0;32m    601\u001b[0m       \u001b[1;31m# Release the lock early so that multiple threads can perform the call\u001b[0m\u001b[1;33m\u001b[0m\u001b[1;33m\u001b[0m\u001b[0m\n",
      "\u001b[1;32mc:\\users\\sanjiv\\appdata\\local\\programs\\python\\python36\\lib\\site-packages\\tensorflow_core\\python\\eager\\function.py\u001b[0m in \u001b[0;36m__call__\u001b[1;34m(self, *args, **kwargs)\u001b[0m\n\u001b[0;32m   2361\u001b[0m     \u001b[1;32mwith\u001b[0m \u001b[0mself\u001b[0m\u001b[1;33m.\u001b[0m\u001b[0m_lock\u001b[0m\u001b[1;33m:\u001b[0m\u001b[1;33m\u001b[0m\u001b[0m\n\u001b[0;32m   2362\u001b[0m       \u001b[0mgraph_function\u001b[0m\u001b[1;33m,\u001b[0m \u001b[0margs\u001b[0m\u001b[1;33m,\u001b[0m \u001b[0mkwargs\u001b[0m \u001b[1;33m=\u001b[0m \u001b[0mself\u001b[0m\u001b[1;33m.\u001b[0m\u001b[0m_maybe_define_function\u001b[0m\u001b[1;33m(\u001b[0m\u001b[0margs\u001b[0m\u001b[1;33m,\u001b[0m \u001b[0mkwargs\u001b[0m\u001b[1;33m)\u001b[0m\u001b[1;33m\u001b[0m\u001b[0m\n\u001b[1;32m-> 2363\u001b[1;33m     \u001b[1;32mreturn\u001b[0m \u001b[0mgraph_function\u001b[0m\u001b[1;33m.\u001b[0m\u001b[0m_filtered_call\u001b[0m\u001b[1;33m(\u001b[0m\u001b[0margs\u001b[0m\u001b[1;33m,\u001b[0m \u001b[0mkwargs\u001b[0m\u001b[1;33m)\u001b[0m  \u001b[1;31m# pylint: disable=protected-access\u001b[0m\u001b[1;33m\u001b[0m\u001b[0m\n\u001b[0m\u001b[0;32m   2364\u001b[0m \u001b[1;33m\u001b[0m\u001b[0m\n\u001b[0;32m   2365\u001b[0m   \u001b[1;33m@\u001b[0m\u001b[0mproperty\u001b[0m\u001b[1;33m\u001b[0m\u001b[0m\n",
      "\u001b[1;32mc:\\users\\sanjiv\\appdata\\local\\programs\\python\\python36\\lib\\site-packages\\tensorflow_core\\python\\eager\\function.py\u001b[0m in \u001b[0;36m_filtered_call\u001b[1;34m(self, args, kwargs)\u001b[0m\n\u001b[0;32m   1609\u001b[0m          if isinstance(t, (ops.Tensor,\n\u001b[0;32m   1610\u001b[0m                            resource_variable_ops.BaseResourceVariable))),\n\u001b[1;32m-> 1611\u001b[1;33m         self.captured_inputs)\n\u001b[0m\u001b[0;32m   1612\u001b[0m \u001b[1;33m\u001b[0m\u001b[0m\n\u001b[0;32m   1613\u001b[0m   \u001b[1;32mdef\u001b[0m \u001b[0m_call_flat\u001b[0m\u001b[1;33m(\u001b[0m\u001b[0mself\u001b[0m\u001b[1;33m,\u001b[0m \u001b[0margs\u001b[0m\u001b[1;33m,\u001b[0m \u001b[0mcaptured_inputs\u001b[0m\u001b[1;33m,\u001b[0m \u001b[0mcancellation_manager\u001b[0m\u001b[1;33m=\u001b[0m\u001b[1;32mNone\u001b[0m\u001b[1;33m)\u001b[0m\u001b[1;33m:\u001b[0m\u001b[1;33m\u001b[0m\u001b[0m\n",
      "\u001b[1;32mc:\\users\\sanjiv\\appdata\\local\\programs\\python\\python36\\lib\\site-packages\\tensorflow_core\\python\\eager\\function.py\u001b[0m in \u001b[0;36m_call_flat\u001b[1;34m(self, args, captured_inputs, cancellation_manager)\u001b[0m\n\u001b[0;32m   1690\u001b[0m       \u001b[1;31m# No tape is watching; skip to running the function.\u001b[0m\u001b[1;33m\u001b[0m\u001b[1;33m\u001b[0m\u001b[0m\n\u001b[0;32m   1691\u001b[0m       return self._build_call_outputs(self._inference_function.call(\n\u001b[1;32m-> 1692\u001b[1;33m           ctx, args, cancellation_manager=cancellation_manager))\n\u001b[0m\u001b[0;32m   1693\u001b[0m     forward_backward = self._select_forward_and_backward_functions(\n\u001b[0;32m   1694\u001b[0m         \u001b[0margs\u001b[0m\u001b[1;33m,\u001b[0m\u001b[1;33m\u001b[0m\u001b[0m\n",
      "\u001b[1;32mc:\\users\\sanjiv\\appdata\\local\\programs\\python\\python36\\lib\\site-packages\\tensorflow_core\\python\\eager\\function.py\u001b[0m in \u001b[0;36mcall\u001b[1;34m(self, ctx, args, cancellation_manager)\u001b[0m\n\u001b[0;32m    543\u001b[0m               \u001b[0minputs\u001b[0m\u001b[1;33m=\u001b[0m\u001b[0margs\u001b[0m\u001b[1;33m,\u001b[0m\u001b[1;33m\u001b[0m\u001b[0m\n\u001b[0;32m    544\u001b[0m               \u001b[0mattrs\u001b[0m\u001b[1;33m=\u001b[0m\u001b[1;33m(\u001b[0m\u001b[1;34m\"executor_type\"\u001b[0m\u001b[1;33m,\u001b[0m \u001b[0mexecutor_type\u001b[0m\u001b[1;33m,\u001b[0m \u001b[1;34m\"config_proto\"\u001b[0m\u001b[1;33m,\u001b[0m \u001b[0mconfig\u001b[0m\u001b[1;33m)\u001b[0m\u001b[1;33m,\u001b[0m\u001b[1;33m\u001b[0m\u001b[0m\n\u001b[1;32m--> 545\u001b[1;33m               ctx=ctx)\n\u001b[0m\u001b[0;32m    546\u001b[0m         \u001b[1;32melse\u001b[0m\u001b[1;33m:\u001b[0m\u001b[1;33m\u001b[0m\u001b[0m\n\u001b[0;32m    547\u001b[0m           outputs = execute.execute_with_cancellation(\n",
      "\u001b[1;32mc:\\users\\sanjiv\\appdata\\local\\programs\\python\\python36\\lib\\site-packages\\tensorflow_core\\python\\eager\\execute.py\u001b[0m in \u001b[0;36mquick_execute\u001b[1;34m(op_name, num_outputs, inputs, attrs, ctx, name)\u001b[0m\n\u001b[0;32m     59\u001b[0m     tensors = pywrap_tensorflow.TFE_Py_Execute(ctx._handle, device_name,\n\u001b[0;32m     60\u001b[0m                                                \u001b[0mop_name\u001b[0m\u001b[1;33m,\u001b[0m \u001b[0minputs\u001b[0m\u001b[1;33m,\u001b[0m \u001b[0mattrs\u001b[0m\u001b[1;33m,\u001b[0m\u001b[1;33m\u001b[0m\u001b[0m\n\u001b[1;32m---> 61\u001b[1;33m                                                num_outputs)\n\u001b[0m\u001b[0;32m     62\u001b[0m   \u001b[1;32mexcept\u001b[0m \u001b[0mcore\u001b[0m\u001b[1;33m.\u001b[0m\u001b[0m_NotOkStatusException\u001b[0m \u001b[1;32mas\u001b[0m \u001b[0me\u001b[0m\u001b[1;33m:\u001b[0m\u001b[1;33m\u001b[0m\u001b[0m\n\u001b[0;32m     63\u001b[0m     \u001b[1;32mif\u001b[0m \u001b[0mname\u001b[0m \u001b[1;32mis\u001b[0m \u001b[1;32mnot\u001b[0m \u001b[1;32mNone\u001b[0m\u001b[1;33m:\u001b[0m\u001b[1;33m\u001b[0m\u001b[0m\n",
      "\u001b[1;31mKeyboardInterrupt\u001b[0m: "
     ]
    }
   ],
   "source": [
    "model.fit(X_data,y_data,epochs=1000)"
   ]
  },
  {
   "cell_type": "code",
   "execution_count": 221,
   "metadata": {},
   "outputs": [
    {
     "name": "stdout",
     "output_type": "stream",
     "text": [
      "[array([[ 2.6933143 , -0.06161265, -3.0354552 ]], dtype=float32), array([ -8.982533 ,  -0.6231529, -10.105699 ], dtype=float32), array([[ 4.9542875],\n",
      "       [-0.5571005],\n",
      "       [ 4.401036 ]], dtype=float32), array([3.7072375], dtype=float32)]\n"
     ]
    }
   ],
   "source": [
    "print(model.get_weights())"
   ]
  },
  {
   "cell_type": "code",
   "execution_count": 222,
   "metadata": {},
   "outputs": [],
   "source": [
    "firstWeights = model.get_weights()[0]\n",
    "firstBiases = model.get_weights()[1]\n",
    "secondWeights = model.get_weights()[2]\n",
    "secondBiases = model.get_weights()[3]"
   ]
  },
  {
   "cell_type": "code",
   "execution_count": 223,
   "metadata": {},
   "outputs": [
    {
     "name": "stdout",
     "output_type": "stream",
     "text": [
      "[[ 2.6933143  -0.06161265 -3.0354552 ]]\n",
      "[ -8.982533   -0.6231529 -10.105699 ]\n",
      "[[ 4.9542875]\n",
      " [-0.5571005]\n",
      " [ 4.401036 ]]\n",
      "[3.7072375]\n"
     ]
    }
   ],
   "source": [
    "print(firstWeights)\n",
    "print(firstBiases)\n",
    "print(secondWeights)\n",
    "print(secondBiases)"
   ]
  },
  {
   "cell_type": "code",
   "execution_count": 224,
   "metadata": {},
   "outputs": [],
   "source": [
    "def relu(x):\n",
    "    return np.maximum(x,0)"
   ]
  },
  {
   "cell_type": "code",
   "execution_count": 234,
   "metadata": {},
   "outputs": [],
   "source": [
    "X_test_draw =np.linspace(-10,10,10000)\n",
    "y_test_draw = X_test_draw**2\n",
    "firstLine = relu(firstWeights[0][0]*X_test_draw + firstBiases[0])\n",
    "secondLine = relu(firstWeights[0][1]*X_test_draw + firstBiases[1])\n",
    "thirdLine = relu(firstWeights[0][2]*X_test_draw + firstBiases[2])\n",
    "\n",
    "firstLineAfterHidden = secondWeights[0][0]*firstLine+secondBiases[0]\n",
    "secondLineAfterHidden = secondWeights[1][0]*secondLine+secondBiases[0]\n",
    "thirdLineAfterHidden = secondWeights[2][0]*thirdLine+secondBiases[0]"
   ]
  },
  {
   "cell_type": "code",
   "execution_count": 235,
   "metadata": {},
   "outputs": [
    {
     "data": {
      "image/png": "[encoded data removed]",
      "text/plain": [
       "<Figure size 432x288 with 1 Axes>"
      ]
     },
     "metadata": {
      "needs_background": "light"
     },
     "output_type": "display_data"
    }
   ],
   "source": [
    "plt.plot(X_test_draw,firstLine)\n",
    "plt.plot(X_test_draw,secondLine)\n",
    "plt.plot(X_test_draw,thirdLine)\n",
    "plt.show()"
   ]
  },
  {
   "cell_type": "code",
   "execution_count": 239,
   "metadata": {},
   "outputs": [
    {
     "data": {
      "image/png": "[encoded data removed]",
      "text/plain": [
       "<Figure size 432x288 with 1 Axes>"
      ]
     },
     "metadata": {
      "needs_background": "light"
     },
     "output_type": "display_data"
    }
   ],
   "source": [
    "plt.plot(X_test_draw,firstLineAfterHidden)\n",
    "plt.plot(X_test_draw,secondLineAfterHidden)\n",
    "plt.plot(X_test_draw,thirdLineAfterHidden)\n",
    "plt.show()"
   ]
  },
  {
   "cell_type": "code",
   "execution_count": 228,
   "metadata": {},
   "outputs": [
    {
     "data": {
      "image/png": "[encoded data removed]",
      "text/plain": [
       "<Figure size 432x288 with 1 Axes>"
      ]
     },
     "metadata": {
      "needs_background": "light"
     },
     "output_type": "display_data"
    }
   ],
   "source": [
    "predict = np.squeeze(model(X_data))\n",
    "plt.plot(X,predict)\n",
    "plt.legend('predicted')\n",
    "plt.plot(X,y_data)\n",
    "plt.legend('actual')\n",
    "plt.show()"
   ]
  },
  {
   "cell_type": "code",
   "execution_count": null,
   "metadata": {},
   "outputs": [],
   "source": []
  }
 ],
 "metadata": {
  "kernelspec": {
   "display_name": "Python 3",
   "language": "python",
   "name": "python3"
  },
  "language_info": {
   "codemirror_mode": {
    "name": "ipython",
    "version": 3
   },
   "file_extension": ".py",
   "mimetype": "text/x-python",
   "name": "python",
   "nbconvert_exporter": "python",
   "pygments_lexer": "ipython3",
   "version": "3.6.2"
  }
 },
 "nbformat": 4,
 "nbformat_minor": 4
}
